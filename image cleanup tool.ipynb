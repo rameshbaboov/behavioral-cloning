{
 "cells": [
  {
   "cell_type": "code",
   "execution_count": 17,
   "metadata": {},
   "outputs": [
    {
     "name": "stdout",
     "output_type": "stream",
     "text": [
      "center\n",
      "left\n"
     ]
    }
   ],
   "source": [
    "import os\n",
    "import csv\n",
    "from pathlib import Path\n",
    "\n",
    "import logging\n",
    "logger = logging.getLogger('myapp')\n",
    "hdlr = logging.FileHandler('d:\\infy_backup\\myapp.log')\n",
    "formatter = logging.Formatter('%(asctime)s %(levelname)s %(message)s')\n",
    "hdlr.setFormatter(formatter)\n",
    "logger.addHandler(hdlr) \n",
    "logger.setLevel(logging.WARNING)\n",
    "\n",
    "\n",
    "# read file\n",
    "lines = []\n",
    "with open('d:/infy_backup/current/5.Academic/ai/udacity/project/project-3/store/driving_log.csv') as csvfile:\n",
    "    reader = csv.reader(csvfile)\n",
    "    for line in reader:\n",
    "        lines.append(line)\n",
    "  \n",
    " # check if file exists\n",
    "for line in lines:\n",
    "    for index in range(0,2):\n",
    "        source_path= line[index]\n",
    "        myfile = Path(source_path)\n",
    "        pth, filename = os.path.split(source_path)\n",
    "        if myfile.is_file():\n",
    "         # logger.info('File found and moved', filename)\n",
    "         \n",
    "            # move the file\n",
    "            filestring_source = \"d:/infy_backup/current/5.Academic/ai/udacity/project/project-3/store/IMG/\"  + filename\n",
    "            filestring_dest = \"d:/infy_backup/current/5.Academic/ai/udacity/project/project-3/store/IMG1/\" +  filename\n",
    "          #  os.rename(filestring_source,filestring_dest)\n",
    "\n",
    "        else:\n",
    "            # if file does not exists, write an error log\n",
    "            # logger.error('File not found - ', source_path)\n",
    "            print(source_path)"
   ]
  },
  {
   "cell_type": "code",
   "execution_count": null,
   "metadata": {},
   "outputs": [],
   "source": []
  }
 ],
 "metadata": {
  "kernelspec": {
   "display_name": "Python 3",
   "language": "python",
   "name": "python3"
  },
  "language_info": {
   "codemirror_mode": {
    "name": "ipython",
    "version": 3
   },
   "file_extension": ".py",
   "mimetype": "text/x-python",
   "name": "python",
   "nbconvert_exporter": "python",
   "pygments_lexer": "ipython3",
   "version": "3.6.2"
  }
 },
 "nbformat": 4,
 "nbformat_minor": 2
}
